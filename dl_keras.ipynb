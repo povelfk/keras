{
 "cells": [
  {
   "cell_type": "code",
   "execution_count": 2,
   "id": "3ee95bf2",
   "metadata": {},
   "outputs": [],
   "source": [
    "import tensorflow as tf\n",
    "import matplotlib.pyplot as plt\n",
    "import numpy as np"
   ]
  },
  {
   "cell_type": "code",
   "execution_count": 3,
   "id": "114c38ae",
   "metadata": {},
   "outputs": [
    {
     "name": "stdout",
     "output_type": "stream",
     "text": [
      "Downloading data from https://storage.googleapis.com/tensorflow/tf-keras-datasets/mnist.npz\n",
      "11490434/11490434 [==============================] - 1s 0us/step\n"
     ]
    }
   ],
   "source": [
    "(x_train, y_train), (x_test, y_test) = tf.keras.datasets.mnist.load_data() # 28x28 images of hand-written digits (0-9)\n",
    "\n",
    "x_train = tf.keras.utils.normalize(x_train, axis=1)\n",
    "x_test = tf.keras.utils.normalize(x_test, axis=1)"
   ]
  },
  {
   "cell_type": "code",
   "execution_count": 16,
   "id": "033fc592",
   "metadata": {},
   "outputs": [],
   "source": [
    "# creating a callback for early stopping\n",
    "# This callback will stop the training when there's not been any improvement in loss for 3 consecutive epochs\n",
    "# from gc import callbacks\n",
    "callback = tf.keras.callbacks.EarlyStopping(monitor='val_loss', patience=3, restore_best_weights=True)"
   ]
  },
  {
   "cell_type": "code",
   "execution_count": 17,
   "id": "da8ba61b",
   "metadata": {},
   "outputs": [
    {
     "name": "stdout",
     "output_type": "stream",
     "text": [
      "Epoch 1/100\n",
      "1688/1688 [==============================] - 2s 1ms/step - loss: 0.2778 - accuracy: 0.9190 - val_loss: 0.1269 - val_accuracy: 0.9627\n",
      "Epoch 2/100\n",
      "1688/1688 [==============================] - 2s 1ms/step - loss: 0.1131 - accuracy: 0.9650 - val_loss: 0.1074 - val_accuracy: 0.9660\n",
      "Epoch 3/100\n",
      "1688/1688 [==============================] - 2s 1ms/step - loss: 0.0753 - accuracy: 0.9765 - val_loss: 0.0937 - val_accuracy: 0.9702\n",
      "Epoch 4/100\n",
      "1688/1688 [==============================] - 2s 1ms/step - loss: 0.0572 - accuracy: 0.9820 - val_loss: 0.0931 - val_accuracy: 0.9717\n",
      "Epoch 5/100\n",
      "1688/1688 [==============================] - 2s 1ms/step - loss: 0.0436 - accuracy: 0.9859 - val_loss: 0.0805 - val_accuracy: 0.9795\n",
      "Epoch 6/100\n",
      "1688/1688 [==============================] - 5s 3ms/step - loss: 0.0330 - accuracy: 0.9891 - val_loss: 0.0908 - val_accuracy: 0.9753\n",
      "Epoch 7/100\n",
      "1688/1688 [==============================] - 3s 2ms/step - loss: 0.0276 - accuracy: 0.9903 - val_loss: 0.0920 - val_accuracy: 0.9775\n",
      "Epoch 8/100\n",
      "1688/1688 [==============================] - 2s 1ms/step - loss: 0.0229 - accuracy: 0.9920 - val_loss: 0.0895 - val_accuracy: 0.9777\n",
      "4\n"
     ]
    }
   ],
   "source": [
    "model = tf.keras.models.Sequential()\n",
    "model.add(tf.keras.layers.Flatten())\n",
    "model.add(tf.keras.layers.Dense(128, activation=tf.nn.relu))\n",
    "model.add(tf.keras.layers.Dense(128, activation=tf.nn.relu))\n",
    "model.add(tf.keras.layers.Dense(10, activation=tf.nn.softmax))\n",
    "\n",
    "model.compile(optimizer='adam',\n",
    "             loss='sparse_categorical_crossentropy',\n",
    "             metrics=['accuracy'])\n",
    "\n",
    "history = model.fit(x_train, y_train, validation_split=0.1, callbacks=[callback], epochs=100)\n",
    "print(len(history.history))"
   ]
  },
  {
   "cell_type": "code",
   "execution_count": 18,
   "id": "b6c01559",
   "metadata": {},
   "outputs": [
    {
     "name": "stdout",
     "output_type": "stream",
     "text": [
      "313/313 [==============================] - 0s 1ms/step - loss: 0.0852 - accuracy: 0.9720\n",
      "0.08517927676439285 0.972000002861023\n"
     ]
    }
   ],
   "source": [
    "test_loss, test_acc = model.evaluate(x_test, y_test)\n",
    "print(test_loss, test_acc)"
   ]
  },
  {
   "cell_type": "code",
   "execution_count": 22,
   "id": "62119107",
   "metadata": {},
   "outputs": [
    {
     "name": "stdout",
     "output_type": "stream",
     "text": [
      "313/313 [==============================] - 0s 909us/step\n"
     ]
    }
   ],
   "source": [
    "predictions = model.predict([x_test])"
   ]
  },
  {
   "cell_type": "code",
   "execution_count": 23,
   "id": "c6388d03",
   "metadata": {},
   "outputs": [
    {
     "name": "stdout",
     "output_type": "stream",
     "text": [
      "7\n"
     ]
    },
    {
     "data": {
      "text/plain": [
       "<matplotlib.image.AxesImage at 0x1418c36b0a0>"
      ]
     },
     "execution_count": 23,
     "metadata": {},
     "output_type": "execute_result"
    },
    {
     "data": {
      "image/png": "[encoded data removed]",
      "text/plain": [
       "<Figure size 432x288 with 1 Axes>"
      ]
     },
     "metadata": {
      "needs_background": "light"
     },
     "output_type": "display_data"
    }
   ],
   "source": [
    "print(np.argmax(predictions[0]))\n",
    "plt.imshow(x_test[0])"
   ]
  },
  {
   "cell_type": "code",
   "execution_count": null,
   "id": "b7c87b67",
   "metadata": {},
   "outputs": [],
   "source": []
  },
  {
   "cell_type": "code",
   "execution_count": null,
   "id": "e617dadc",
   "metadata": {},
   "outputs": [],
   "source": []
  },
  {
   "cell_type": "code",
   "execution_count": null,
   "id": "9180044e",
   "metadata": {},
   "outputs": [],
   "source": []
  },
  {
   "cell_type": "code",
   "execution_count": null,
   "id": "940b6189",
   "metadata": {},
   "outputs": [],
   "source": []
  },
  {
   "cell_type": "code",
   "execution_count": null,
   "id": "cd4292c1",
   "metadata": {},
   "outputs": [],
   "source": []
  },
  {
   "cell_type": "code",
   "execution_count": null,
   "id": "e75cc5df",
   "metadata": {},
   "outputs": [],
   "source": []
  },
  {
   "cell_type": "code",
   "execution_count": null,
   "id": "7372305f",
   "metadata": {},
   "outputs": [],
   "source": []
  },
  {
   "cell_type": "code",
   "execution_count": null,
   "id": "f0b162d4",
   "metadata": {},
   "outputs": [],
   "source": []
  },
  {
   "cell_type": "code",
   "execution_count": null,
   "id": "177d3019",
   "metadata": {},
   "outputs": [],
   "source": []
  }
 ],
 "metadata": {
  "kernelspec": {
   "display_name": "Python 3.9.7 64-bit",
   "language": "python",
   "name": "python3"
  },
  "language_info": {
   "codemirror_mode": {
    "name": "ipython",
    "version": 3
   },
   "file_extension": ".py",
   "mimetype": "text/x-python",
   "name": "python",
   "nbconvert_exporter": "python",
   "pygments_lexer": "ipython3",
   "version": "3.9.7"
  },
  "vscode": {
   "interpreter": {
    "hash": "ae2d40c6a027aa08a408242ac5fb9144eefb5f4ff3a51ac521c1c2ae9c3e7888"
   }
  }
 },
 "nbformat": 4,
 "nbformat_minor": 5
}
